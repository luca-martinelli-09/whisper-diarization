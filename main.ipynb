{
  "cells": [
    {
      "cell_type": "markdown",
      "metadata": {
        "id": "pCY97FPoZbj6"
      },
      "source": [
        "# Digital People - Whisper Diarization"
      ]
    },
    {
      "cell_type": "markdown",
      "metadata": {
        "id": "bI62cjs-ZnpL"
      },
      "source": [
        "**NOTA IMPORTANTE**: Prima di eseguire il codice, connettersi a una runtime con GPU andando nel menù in alto \"Runtime\" -> \"Cambia tipo di runtime\" e selezionare \"T4-GPU\".\n",
        "\n",
        "Una volta connessi alla runtime (è possibile visualizzare lo stato in alto a destra), eseguire i comandi uno alla volta, premendo il pulsante \"Play\" vicino a ogni cella.\n",
        "\n",
        "È possibile che nella fase di \"*Installazione delle dipendenze necessarie*\" alla fine Google Colab chieda di riavviare la runtime. Seguire i passaggi proposti ed eseguire nuovamente il codice da \"*Installazione delle dipendenze necessari*e\"."
      ]
    },
    {
      "cell_type": "code",
      "execution_count": null,
      "metadata": {
        "cellView": "form",
        "id": "FTXcx2b4Zbj8",
        "vscode": {
          "languageId": "plaintext"
        }
      },
      "outputs": [],
      "source": [
        "#@title Download del progetto\n",
        "\n",
        "!git clone https://github.com/luca-martinelli-09/whisper-diarization"
      ]
    },
    {
      "cell_type": "code",
      "execution_count": null,
      "metadata": {
        "cellView": "form",
        "id": "sQOWFQsJZbj9",
        "vscode": {
          "languageId": "plaintext"
        }
      },
      "outputs": [],
      "source": [
        "#@title Installazione delle dipendenze necessarie\n",
        "\n",
        "!pip install openai pyannote.audio pydub pydantic pydantic_settings webvtt-py"
      ]
    },
    {
      "cell_type": "code",
      "execution_count": null,
      "metadata": {
        "cellView": "form",
        "id": "QSpoOsXiZbj9"
      },
      "outputs": [],
      "source": [
        "#@title Configurazioni\n",
        "\n",
        "OPENAI_API_KEY = \"\"  # @param {type:\"string\"}\n",
        "OPENAI_WHISPER_MODEL = \"whisper-1\"  # @param [\"whisper-1\", \"gpt-4o-transcribe\", \"gpt-4o-mini-transcribe\"]\n",
        "OPENAI_WHISPER_PROMPT = \"\"  # @param {type:\"string\"}\n",
        "\n",
        "HF_API_KEY = \"\"  # @param {type:\"string\"}\n",
        "\n",
        "PYANNOTE_MODEL = \"pyannote/speaker-diarization-community-1\"  # @param [\"pyannote/speaker-diarization-community-1\"]\n",
        "\n",
        "import os\n",
        "\n",
        "\n",
        "os.environ[\"OPENAI_API_KEY\"] = OPENAI_API_KEY\n",
        "os.environ[\"OPENAI_WHISPER_MODEL\"] = OPENAI_WHISPER_MODEL\n",
        "os.environ[\"OPENAI_WHISPER_PROMPT\"] = OPENAI_WHISPER_PROMPT\n",
        "os.environ[\"HF_API_KEY\"] = HF_API_KEY\n",
        "os.environ[\"PYANNOTE_MODEL\"] = PYANNOTE_MODEL"
      ]
    },
    {
      "cell_type": "code",
      "execution_count": null,
      "metadata": {
        "cellView": "form",
        "id": "IjG9DO63Zbj-"
      },
      "outputs": [],
      "source": [
        "#@title Importazioni\n",
        "\n",
        "import sys\n",
        "\n",
        "sys.path.insert(0, \"whisper-diarization\")"
      ]
    },
    {
      "cell_type": "code",
      "execution_count": null,
      "metadata": {
        "cellView": "form",
        "id": "rHo_nHnWZbj-"
      },
      "outputs": [],
      "source": [
        "#@title Configurazioni\n",
        "\n",
        "import logging\n",
        "import shutil\n",
        "from pathlib import Path\n",
        "\n",
        "from app.diarization import get_pipeline\n",
        "from app.settings import settings\n",
        "from app.vtt import create_vtt\n",
        "from app.whisper import get_transcripts\n",
        "\n",
        "logger = logging.getLogger(__name__)\n",
        "\n",
        "settings.tmp_folder.mkdir(exist_ok=True)"
      ]
    },
    {
      "cell_type": "code",
      "execution_count": null,
      "metadata": {
        "cellView": "form",
        "id": "kgOVVNXAZbj-"
      },
      "outputs": [],
      "source": [
        "#@title Upload del file\n",
        "\n",
        "from google.colab import files\n",
        "\n",
        "uploaded = files.upload()\n",
        "filename = None\n",
        "\n",
        "for fn in uploaded.keys():\n",
        "    filename = fn\n",
        "\n",
        "filename = Path(filename).absolute()\n",
        "\n",
        "if not filename.exists():\n",
        "    logger.error(f\"🛑 File {filename} not exists\")\n",
        "    exit(1)"
      ]
    },
    {
      "cell_type": "code",
      "execution_count": null,
      "metadata": {
        "cellView": "form",
        "id": "IXy7YP-MZbj_"
      },
      "outputs": [],
      "source": [
        "#@title Avvio della trascrizione\n",
        "\n",
        "(audio_segment, diarization) = get_pipeline(filename)\n",
        "\n",
        "transcripts = get_transcripts(diarization, audio_segment)\n",
        "\n",
        "vtt = create_vtt(transcripts)"
      ]
    },
    {
      "cell_type": "code",
      "execution_count": null,
      "metadata": {
        "cellView": "form",
        "id": "CSjw5qb0Zbj_"
      },
      "outputs": [],
      "source": [
        "#@title Download del file\n",
        "\n",
        "export_filename = filename.with_suffix(\".vtt\")\n",
        "with open(export_filename, \"w\", encoding=\"utf-8\") as f:\n",
        "    vtt.write(f)\n",
        "\n",
        "shutil.rmtree(settings.tmp_folder.absolute())\n",
        "\n",
        "files.download(export_filename)"
      ]
    }
  ],
  "metadata": {
    "colab": {
      "provenance": []
    },
    "language_info": {
      "name": "python"
    }
  },
  "nbformat": 4,
  "nbformat_minor": 0
}
