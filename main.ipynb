{
 "cells": [
  {
   "cell_type": "markdown",
   "metadata": {},
   "source": [
    "# Digital People - Whisper Diarization"
   ]
  },
  {
   "cell_type": "code",
   "execution_count": null,
   "metadata": {
    "vscode": {
     "languageId": "plaintext"
    }
   },
   "outputs": [],
   "source": [
    "!pip install -r requirements.txt"
   ]
  },
  {
   "cell_type": "code",
   "execution_count": null,
   "metadata": {
    "vscode": {
     "languageId": "plaintext"
    }
   },
   "outputs": [],
   "source": [
    "import argparse\n",
    "import logging\n",
    "import shutil\n",
    "from pathlib import Path\n",
    "\n",
    "from app.diarization import get_pipeline\n",
    "from app.settings import settings\n",
    "from app.vtt import create_vtt\n",
    "from app.whisper import get_transcripts\n",
    "\n",
    "logger = logging.getLogger(__name__)\n",
    "\n",
    "parser = argparse.ArgumentParser(\n",
    "    prog=\"Digital People - Whisper Diarization\",\n",
    ")\n",
    "parser.add_argument(\"filename\")\n",
    "parser.print_help()\n",
    "\n",
    "args = parser.parse_args()\n",
    "\n",
    "settings.tmp_folder.mkdir(exist_ok=True)\n",
    "\n",
    "if __name__ == \"__main__\":\n",
    "    filename = Path(args.filename).absolute()\n",
    "\n",
    "    if not filename.exists():\n",
    "        logger.error(f\"🛑 File {filename} not exists\")\n",
    "        exit(1)\n",
    "\n",
    "    (audio_segment, diarization) = get_pipeline(args.filename)\n",
    "\n",
    "    transcripts = get_transcripts(diarization, audio_segment)\n",
    "\n",
    "    vtt = create_vtt(transcripts)\n",
    "\n",
    "    with open(filename.with_suffix(\".vtt\"), \"w\") as f:\n",
    "        vtt.write(f)\n",
    "\n",
    "    shutil.rmtree(settings.tmp_folder.absolute())"
   ]
  }
 ],
 "metadata": {
  "language_info": {
   "name": "python"
  }
 },
 "nbformat": 4,
 "nbformat_minor": 2
}
