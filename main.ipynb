{
 "cells": [
  {
   "cell_type": "markdown",
   "metadata": {},
   "source": [
    "# Digital People - Whisper Diarization"
   ]
  },
  {
   "cell_type": "code",
   "execution_count": null,
   "metadata": {
    "vscode": {
     "languageId": "plaintext"
    }
   },
   "outputs": [],
   "source": [
    "!pip install -r requirements.txt"
   ]
  },
  {
   "cell_type": "code",
   "execution_count": null,
   "metadata": {},
   "outputs": [],
   "source": [
    "OPENAI_API_KEY = \"\"  # @param {type:\"string\"}\n",
    "OPENAI_WHISPER_MODEL = \"whisper-1\"  # @param [\"whisper-1\"]\n",
    "OPENAI_WHISPER_PROMPT = \"\"  # @param {type:\"string\"}\n",
    "\n",
    "HF_API_KEY = \"\"  # @param {type:\"string\"}\n",
    "\n",
    "PYANNOTE_MODEL = (\n",
    "    \"pyannote/speaker-diarization-3.1\"  # @param [\"pyannote/speaker-diarization-3.1\"]\n",
    ")"
   ]
  },
  {
   "cell_type": "code",
   "execution_count": null,
   "metadata": {},
   "outputs": [],
   "source": [
    "import os\n",
    "\n",
    "\n",
    "os.environ[\"OPENAI_API_KEY\"] = OPENAI_API_KEY\n",
    "os.environ[\"OPENAI_WHISPER_MODEL\"] = OPENAI_WHISPER_MODEL\n",
    "os.environ[\"OPENAI_WHISPER_PROMPT\"] = OPENAI_WHISPER_PROMPT\n",
    "os.environ[\"HF_API_KEY\"] = HF_API_KEY\n",
    "os.environ[\"PYANNOTE_MODEL\"] = PYANNOTE_MODEL"
   ]
  },
  {
   "cell_type": "code",
   "execution_count": null,
   "metadata": {},
   "outputs": [],
   "source": [
    "import argparse\n",
    "import logging\n",
    "import shutil\n",
    "from pathlib import Path\n",
    "\n",
    "from app.diarization import get_pipeline\n",
    "from app.settings import settings\n",
    "from app.vtt import create_vtt\n",
    "from app.whisper import get_transcripts\n",
    "\n",
    "logger = logging.getLogger(__name__)\n",
    "settings.tmp_folder.mkdir(exist_ok=True)"
   ]
  },
  {
   "cell_type": "code",
   "execution_count": null,
   "metadata": {},
   "outputs": [],
   "source": [
    "from google.colab import files\n",
    "\n",
    "uploaded = files.upload()\n",
    "filename = None\n",
    "\n",
    "for fn in uploaded.keys():\n",
    "    filename = fn\n",
    "\n",
    "filename = Path(filename).absolute()\n",
    "\n",
    "if not filename.exists():\n",
    "    logger.error(f\"🛑 File {filename} not exists\")\n",
    "    exit(1)"
   ]
  },
  {
   "cell_type": "code",
   "execution_count": null,
   "metadata": {},
   "outputs": [],
   "source": [
    "(audio_segment, diarization) = get_pipeline(filename)\n",
    "\n",
    "transcripts = get_transcripts(diarization, audio_segment)\n",
    "\n",
    "vtt = create_vtt(transcripts)\n",
    "\n",
    "export_filename = filename.with_suffix(\".vtt\")\n",
    "with open(export_filename, \"w\") as f:\n",
    "    vtt.write(f)\n",
    "\n",
    "shutil.rmtree(settings.tmp_folder.absolute())"
   ]
  },
  {
   "cell_type": "code",
   "execution_count": null,
   "metadata": {},
   "outputs": [],
   "source": [
    "files.download(export_filename)"
   ]
  }
 ],
 "metadata": {
  "language_info": {
   "name": "python"
  }
 },
 "nbformat": 4,
 "nbformat_minor": 2
}
